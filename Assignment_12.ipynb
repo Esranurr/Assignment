{
 "cells": [
  {
   "cell_type": "code",
   "execution_count": 1,
   "id": "0cd494b1",
   "metadata": {},
   "outputs": [
    {
     "name": "stdout",
     "output_type": "stream",
     "text": [
      "Enter a number :0\n",
      "It is an invalid entry. Don't use non-numeric, float, or negative values!\n"
     ]
    }
   ],
   "source": [
    "number = input(\"Enter a number :\")\n",
    "length = len(number)\n",
    "\n",
    "sum = 0\n",
    "\n",
    "if int(number) <= 0 :\n",
    "   print(\"It is an invalid entry. Don't use non-numeric, float, or negative values!\")\n",
    "else :\n",
    "  for i in range(length) :\n",
    "    sum = sum + int(number[i]) ** length\n",
    "  \n",
    "  if(sum == int(number)) :\n",
    "        print(f\"{number} is an Armstrong Number\".format())\n",
    "  else :\n",
    "        print(f\"{number} is not an Armstrong Number!\".format())"
   ]
  },
  {
   "cell_type": "code",
   "execution_count": null,
   "id": "6a3a7b4f",
   "metadata": {},
   "outputs": [],
   "source": []
  }
 ],
 "metadata": {
  "kernelspec": {
   "display_name": "Python 3 (ipykernel)",
   "language": "python",
   "name": "python3"
  },
  "language_info": {
   "codemirror_mode": {
    "name": "ipython",
    "version": 3
   },
   "file_extension": ".py",
   "mimetype": "text/x-python",
   "name": "python",
   "nbconvert_exporter": "python",
   "pygments_lexer": "ipython3",
   "version": "3.11.0"
  }
 },
 "nbformat": 4,
 "nbformat_minor": 5
}
