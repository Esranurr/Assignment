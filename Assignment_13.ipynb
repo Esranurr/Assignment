{
 "cells": [
  {
   "cell_type": "code",
   "execution_count": 1,
   "id": "d31529ae",
   "metadata": {},
   "outputs": [
    {
     "name": "stdout",
     "output_type": "stream",
     "text": [
      "Enter a positive number :7\n",
      "7 is a prime number\n"
     ]
    }
   ],
   "source": [
    "number = int(input(\"Enter a positive number :\"))\n",
    "\n",
    "if number > 1 :\n",
    "  for i in range(2,number):\n",
    "    if (number % i) == 0 :\n",
    "      print(f\"{number} is not a prime number\".format())\n",
    "      break\n",
    "  else:\n",
    "    print(f\"{number} is a prime number\".format())\n",
    "\n",
    "else :\n",
    "  print(f\"{number} is not a prime number\".format()) "
   ]
  },
  {
   "cell_type": "code",
   "execution_count": null,
   "id": "7e153798",
   "metadata": {},
   "outputs": [],
   "source": []
  }
 ],
 "metadata": {
  "kernelspec": {
   "display_name": "Python 3 (ipykernel)",
   "language": "python",
   "name": "python3"
  },
  "language_info": {
   "codemirror_mode": {
    "name": "ipython",
    "version": 3
   },
   "file_extension": ".py",
   "mimetype": "text/x-python",
   "name": "python",
   "nbconvert_exporter": "python",
   "pygments_lexer": "ipython3",
   "version": "3.11.0"
  }
 },
 "nbformat": 4,
 "nbformat_minor": 5
}
