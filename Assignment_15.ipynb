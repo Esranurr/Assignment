{
 "cells": [
  {
   "cell_type": "code",
   "execution_count": 1,
   "id": "4076d82a",
   "metadata": {},
   "outputs": [
    {
     "name": "stdout",
     "output_type": "stream",
     "text": [
      "What number would you like to learn about prime numbers up to? : 100\n",
      "The prime numbers between 1 and 100 are as follows ;\n",
      "[2, 3, 5, 7, 11, 13, 17, 19, 23, 29, 31, 37, 41, 43, 47, 53, 59, 61, 67, 71, 73, 79, 83, 89, 97]\n"
     ]
    }
   ],
   "source": [
    "n = int(input(\"What number would you like to learn about prime numbers up to? : \"))\n",
    "num = []\n",
    "\n",
    "for i in range(2, n + 1): \n",
    "\n",
    "    counter = 1\n",
    "\n",
    "    for k in range(2,i):\n",
    "        if i % k == 0:\n",
    "            counter = 0\n",
    "\n",
    "    if counter != 0:\n",
    "        num.append(i)\n",
    "\n",
    "print(f\"The prime numbers between 1 and {n} are as follows ;\")\n",
    "print(num)"
   ]
  },
  {
   "cell_type": "code",
   "execution_count": null,
   "id": "e7a0e225",
   "metadata": {},
   "outputs": [],
   "source": []
  }
 ],
 "metadata": {
  "kernelspec": {
   "display_name": "Python 3 (ipykernel)",
   "language": "python",
   "name": "python3"
  },
  "language_info": {
   "codemirror_mode": {
    "name": "ipython",
    "version": 3
   },
   "file_extension": ".py",
   "mimetype": "text/x-python",
   "name": "python",
   "nbconvert_exporter": "python",
   "pygments_lexer": "ipython3",
   "version": "3.11.0"
  }
 },
 "nbformat": 4,
 "nbformat_minor": 5
}
