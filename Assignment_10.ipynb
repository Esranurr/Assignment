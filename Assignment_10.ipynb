{
 "cells": [
  {
   "cell_type": "code",
   "execution_count": 1,
   "id": "a4fb9e44",
   "metadata": {},
   "outputs": [
    {
     "name": "stdout",
     "output_type": "stream",
     "text": [
      "Please answer as 1 if yes, 0 if no!\n",
      "   Are you a cigarette addict older than 75 years old? : 1\n",
      "   Do you have a severe chronic disease? : 0\n",
      "   Is your immune system too weak? : 1\n",
      "***You are in risky group***\n"
     ]
    }
   ],
   "source": [
    "print(\"Please answer as 1 if yes, 0 if no!\")\n",
    "\n",
    "age = bool(int(input(\"   Are you a cigarette addict older than 75 years old? : \")))\n",
    "chronic = bool(int(input(\"   Do you have a severe chronic disease? : \")))\n",
    "immune = bool(int(input(\"   Is your immune system too weak? : \")))\n",
    "\n",
    "risk = age or chronic or immune\n",
    "\n",
    "if risk :\n",
    "    print(\"You are in risky group\".center(28,\"*\"))\n",
    "else :\n",
    "    print(\"You aren't in risky group\".center(32,\"*\"))"
   ]
  },
  {
   "cell_type": "code",
   "execution_count": null,
   "id": "bcc47d80",
   "metadata": {},
   "outputs": [],
   "source": []
  }
 ],
 "metadata": {
  "kernelspec": {
   "display_name": "Python 3 (ipykernel)",
   "language": "python",
   "name": "python3"
  },
  "language_info": {
   "codemirror_mode": {
    "name": "ipython",
    "version": 3
   },
   "file_extension": ".py",
   "mimetype": "text/x-python",
   "name": "python",
   "nbconvert_exporter": "python",
   "pygments_lexer": "ipython3",
   "version": "3.11.0"
  }
 },
 "nbformat": 4,
 "nbformat_minor": 5
}
